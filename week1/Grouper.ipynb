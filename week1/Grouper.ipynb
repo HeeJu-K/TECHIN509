{
 "cells": [
  {
   "cell_type": "code",
   "execution_count": null,
   "id": "dc2bd705",
   "metadata": {},
   "outputs": [],
   "source": [
    "#Grouper\n",
    "\n",
    "import random\n",
    "import math\n",
    "\n",
    "teamSize = int(input(\"Enter number of total members: \"))\n",
    "team = []\n",
    "\n",
    "for i in range (0, teamSize):\n",
    "    team.append(input(\"Enter name of \"+str(i)+\"th member in the team: \"))\n",
    "    \n",
    "random.shuffle(team)\n",
    "\n",
    "number_of_teams = int(input(\"Enter number of teams: \"))\n",
    "\n",
    "member_in_team = math.floor(teamSize / number_of_teams)\n",
    "remnants = int(teamSize % number_of_teams)\n",
    "\n",
    "print(\"check\", team, member_in_team, remnants)\n",
    "shuffled_team = []\n",
    "\n",
    "for i in range (1, number_of_teams):\n",
    "    for j in range (1, member_in_team):\n",
    "        shuffled_team[i].append(team[i*j])\n",
    "\n",
    "for i in range (1, remnants):\n",
    "    shuffled_team[\"i\"].append(team[teamSize-i])\n",
    "    \n",
    "for i in range (1, number_of_teams):\n",
    "    print(\"check\", shuffled_team[\"i\"])\n"
   ]
  }
 ],
 "metadata": {
  "kernelspec": {
   "display_name": "Python 3 (ipykernel)",
   "language": "python",
   "name": "python3"
  },
  "language_info": {
   "codemirror_mode": {
    "name": "ipython",
    "version": 3
   },
   "file_extension": ".py",
   "mimetype": "text/x-python",
   "name": "python",
   "nbconvert_exporter": "python",
   "pygments_lexer": "ipython3",
   "version": "3.7.13"
  }
 },
 "nbformat": 4,
 "nbformat_minor": 5
}
