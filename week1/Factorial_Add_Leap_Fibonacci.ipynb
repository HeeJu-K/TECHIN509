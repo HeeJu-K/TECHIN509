{
 "cells": [
  {
   "cell_type": "code",
   "execution_count": null,
   "id": "a8e9ac05",
   "metadata": {},
   "outputs": [],
   "source": [
    "### code that calculate & prints factorial of an interger number\n",
    "\n",
    "def calculate_factorial(n): # function that calculates factorial\n",
    "    if n<0: # factorial of a negative value does not exist, print undefined\n",
    "        return \"undefined\" \n",
    "    elif n == 0 or n == 1: # both factorial of 0 and factorial of1 is 1\n",
    "        return 1 \n",
    "    else: # re-enter the calculate_factorial function until the number reaches 1, the multiplication will be accumulated\n",
    "        return n*calculate_factorial(n-1) \n",
    "    \n",
    "# enter the input number you wish to calculate, should be an integer\n",
    "input_num = int(input(\"Enter the number you wish to calculate factorial of: \"))\n",
    "\n",
    "# print out the calculated factorial of the input\n",
    "print(\"Factorial of the input number is\", calculate_factorial(input_num))"
   ]
  },
  {
   "cell_type": "code",
   "execution_count": null,
   "id": "6e5fecf7",
   "metadata": {},
   "outputs": [],
   "source": [
    "### Implement a custom add function given an increment and a decrement function:\n",
    "\n",
    "def inc(x: int) -> int:\n",
    "    \"\"\"Increments and returns the given integer.\"\"\"\n",
    "    if not isinstance(x, int):\n",
    "        raise TypeError(\"Given number is not an integer.\")\n",
    "    return x + 1\n",
    "\n",
    "\n",
    "def dec(x: int) -> int:\n",
    "    \"\"\"Decrements and returns the given integer.\"\"\"\n",
    "    if not isinstance(x, int):\n",
    "        raise TypeError(\"Given number is not an integer.\")\n",
    "    return x - 1\n",
    "\n",
    "\n",
    "def add(x: int, y: int) -> int:\n",
    "    \"\"\"Adds and returns two given integers with increment and decrement functions.\"\"\"\n",
    "    if not isinstance(x, int) or not isinstance(y, int):\n",
    "        raise TypeError(\"Given input is not an integer.\")\n",
    "    if x < 0 or y < 0:\n",
    "        raise ValueError(\"One or more inputs are less than 0.\")\n",
    "    \n",
    "    # Implement your code here.\n",
    "    ## need to call inc function of x for y times (or the opposite)\n",
    "    sum = x # sum starts from value of x\n",
    "    for i in range (0, y): #inc is called for y times\n",
    "        sum = inc(sum) # each time sum increments by 1\n",
    "\n",
    "    return sum # add function returns the final sum\n",
    "\n",
    "input_x = int(input(\"Enter the first number you wish to add: \")) # input the x for adding\n",
    "input_y = int(input(\"Enter the second number you wish to add: \"))# input the y for adding\n",
    "print(\"the addition of \"+str(input_x)+\" and \"+str(input_y)+\" is: \"+str(add(input_x, input_y)) )"
   ]
  },
  {
   "cell_type": "code",
   "execution_count": null,
   "id": "3d0643e9",
   "metadata": {},
   "outputs": [],
   "source": [
    "\n",
    "\n",
    "#\n",
    "\n",
    "def N_thFib(n):\n",
    "    if n < 0:\n",
    "        return \"undefiend\"\n",
    "    elif n == 0:\n",
    "        return 0\n",
    "    elif n == 1:\n",
    "        return 1\n",
    "    else:\n",
    "        return N_thFib(n-1) + N_thFib(n-2)\n",
    "\n",
    "input_num = int(input(\"Enter the number you wish to : \"))\n",
    "print(\"the \"+str(input_num)+\"th Fibonacci number is: \"+str(N_thFib(input_num)))"
   ]
  },
  {
   "cell_type": "code",
   "execution_count": null,
   "id": "23774352",
   "metadata": {},
   "outputs": [],
   "source": []
  }
 ],
 "metadata": {
  "kernelspec": {
   "display_name": "Python 3 (ipykernel)",
   "language": "python",
   "name": "python3"
  },
  "language_info": {
   "codemirror_mode": {
    "name": "ipython",
    "version": 3
   },
   "file_extension": ".py",
   "mimetype": "text/x-python",
   "name": "python",
   "nbconvert_exporter": "python",
   "pygments_lexer": "ipython3",
   "version": "3.7.13"
  }
 },
 "nbformat": 4,
 "nbformat_minor": 5
}
