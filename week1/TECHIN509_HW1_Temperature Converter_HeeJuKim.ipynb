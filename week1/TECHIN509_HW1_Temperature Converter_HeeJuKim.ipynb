{
 "cells": [
  {
   "cell_type": "markdown",
   "id": "9488e136",
   "metadata": {},
   "source": [
    "# Temperature Converter"
   ]
  },
  {
   "cell_type": "code",
   "execution_count": 46,
   "id": "59ddffab",
   "metadata": {},
   "outputs": [
    {
     "name": "stdout",
     "output_type": "stream",
     "text": [
      "Enter the type of degree you want to convert with: (either farenheit or celcius):farenheit\n",
      "Enter Farenheit degree:24.3\n",
      "Celcius degrees to 24.3 °F is  -4.28 °C\n"
     ]
    }
   ],
   "source": [
    "#This is a temperature converter of both sides \n",
    "#calculator follows the formula (°F − 32) × 5/9 - °C and (°C × 9/5) + 32 = °F\n",
    "#user inputs either farenheit degree or celcius degree to convert it to the other \n",
    "\n",
    "#type is the type of degree, should be either farenheit or celcius\n",
    "type = input(\"Enter the type of degree you want to convert with: (either farenheit or celcius):\")\n",
    "\n",
    "if type == \"farenheit\": # if converting with a farenheit degree\n",
    "    farenheit = float(input('Enter Farenheit degree:')) #User inputs farenheit degree they want to convert with\n",
    "    celcius = (farenheit-32)*5/9 #Calculates farenheit degree to celcius degree\n",
    "    formatted_celcius = \"{:.2f}\".format(celcius) #constraints the calculated number to two decimals\n",
    "    print(\"Celcius degrees to\", farenheit, \"°F is \", formatted_celcius, \"°C\") #prints out the calculated result\n",
    "    \n",
    "elif type == \"celcius\": # if converting with a celcius degree\n",
    "    celcius = float(input('Enter Celcius degree:')) #User inputs celcius degree they want to convert with\n",
    "    farenheit = (celcius * 9/5) + 32 #Calculates farenheit degree to celcius degree\n",
    "    formatted_farenheit = \"{:.2f}\".format(farenheit) #constraints the calculated number to two decimals\n",
    "    print(\"Farenheit degrees to\", celcius, \"°C is\", formatted_farenheit, \"°F \") #prints out the calculated result\n",
    "    \n",
    "else: # if entered degrees type is neither farenheit nor celcius\n",
    "    print(\"Please enter a valid degree type\") #prints out the error messege"
   ]
  }
 ],
 "metadata": {
  "kernelspec": {
   "display_name": "Python 3 (ipykernel)",
   "language": "python",
   "name": "python3"
  },
  "language_info": {
   "codemirror_mode": {
    "name": "ipython",
    "version": 3
   },
   "file_extension": ".py",
   "mimetype": "text/x-python",
   "name": "python",
   "nbconvert_exporter": "python",
   "pygments_lexer": "ipython3",
   "version": "3.7.13"
  }
 },
 "nbformat": 4,
 "nbformat_minor": 5
}
