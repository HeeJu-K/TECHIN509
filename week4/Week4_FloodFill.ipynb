{
 "cells": [
  {
   "cell_type": "code",
   "execution_count": 46,
   "id": "8c7e7011",
   "metadata": {
    "scrolled": true
   },
   "outputs": [
    {
     "name": "stdout",
     "output_type": "stream",
     "text": [
      "......................\n",
      "......##########......\n",
      "......#~~~~~~~~#......\n",
      "......#~~~~~~~~#......\n",
      "......#~~~~~~~~#####..\n",
      "....###~~~~~~~~~~~~#..\n",
      "....#~~~~~~~~~~~~###..\n",
      "....##############....\n"
     ]
    }
   ],
   "source": [
    "from typing import List\n",
    "\n",
    "board = [\n",
    "    \"......................\",\n",
    "    \"......##########......\",\n",
    "    \"......#........#......\",\n",
    "    \"......#........#......\",\n",
    "    \"......#........#####..\",\n",
    "    \"....###............#..\",\n",
    "    \"....#............###..\",\n",
    "    \"....##############....\",\n",
    "]\n",
    "\n",
    "\n",
    "def flood_fill(input_board: List[str], old: str, new: str, x: int, y: int) -> List[str]:\n",
    "    \"\"\"Returns board with old values replaced with new values\n",
    "    through flood filling starting from the coordinates x, y\n",
    "    Args:\n",
    "        input_board (List[str])\n",
    "        old (str): Value to be replaced\n",
    "        new (str): Value that replaces the old\n",
    "        x (int): X-coordinate of the flood start point\n",
    "        y (int): Y-coordinate of the flood start point\n",
    "    Returns:\n",
    "        List[str]: Modified board\n",
    "    \"\"\"\n",
    "\n",
    "    # Implement your code here.\n",
    "\n",
    "    #when entered coordinates does not contain character to be replaced with\n",
    "    if input_board[x][y] != old:\n",
    "        return input_board\n",
    "    #when entered coordinate is outside boundary\n",
    "    if x<0 and y<0 or x>=len(input_board) or y>=len(input_board[0]):\n",
    "        return input_board\n",
    "    #replace row with old str with row with new str \n",
    "    output_board = input_board\n",
    "    output_board[x] = input_board[x][:y] + new + input_board[x][y+1:]\n",
    "    \n",
    "    #recurse if next coordinate is in range \n",
    "    if x < len(input_board)-1:\n",
    "        output_board = flood_fill(output_board, old, new, x+1, y)\n",
    "    if x > 0:\n",
    "        output_board = flood_fill(output_board, old, new, x-1, y)\n",
    "    if y < len(input_board[0])-1:\n",
    "        output_board = flood_fill(output_board, old, new, x, y+1)\n",
    "    if y > 0:\n",
    "        output_board = flood_fill(output_board, old, new, x, y-1)\n",
    "\n",
    "    return output_board\n",
    "\n",
    "\n",
    "modified_board = flood_fill(input_board=board, old=\".\", new=\"~\", x=5, y=12)\n",
    "\n",
    "for a in modified_board:\n",
    "    print(a)\n",
    "\n",
    "# Expected output:\n",
    "# ......................\n",
    "# ......##########......\n",
    "# ......#~~~~~~~~#......\n",
    "# ......#~~~~~~~~#......\n",
    "# ......#~~~~~~~~#####..\n",
    "# ....###~~~~~~~~~~~~#..\n",
    "# ....#~~~~~~~~~~~~###..\n",
    "# ....##############...."
   ]
  },
  {
   "cell_type": "code",
   "execution_count": null,
   "id": "97ffd56c",
   "metadata": {},
   "outputs": [],
   "source": []
  }
 ],
 "metadata": {
  "kernelspec": {
   "display_name": "Python 3 (ipykernel)",
   "language": "python",
   "name": "python3"
  },
  "language_info": {
   "codemirror_mode": {
    "name": "ipython",
    "version": 3
   },
   "file_extension": ".py",
   "mimetype": "text/x-python",
   "name": "python",
   "nbconvert_exporter": "python",
   "pygments_lexer": "ipython3",
   "version": "3.7.13"
  }
 },
 "nbformat": 4,
 "nbformat_minor": 5
}
